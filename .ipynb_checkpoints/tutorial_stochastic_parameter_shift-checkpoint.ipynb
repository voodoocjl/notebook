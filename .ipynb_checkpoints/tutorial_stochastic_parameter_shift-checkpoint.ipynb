{
  "cells": [
    {
      "cell_type": "code",
      "execution_count": null,
      "metadata": {
        "collapsed": false
      },
      "outputs": [],
      "source": [
        "# This cell is added by sphinx-gallery\n# It can be customized to whatever you like\n%matplotlib inline"
      ]
    },
    {
      "cell_type": "markdown",
      "metadata": {},
      "source": [
        "The Stochastic Parameter-Shift Rule\n===================================\n\n*Author: PennyLane dev team. Last updated: 15 Jan 2021.*\n\nWe demonstrate how the stochastic parameter-shift rule, discovered by\nBanchi and Crooks \\[\\#banchi2020\\]\\_, can be used to differentiate\narbitrary qubit gates, generalizing the original\nparameter-shift rule &lt;/glossary/parameter\\_shift&gt;, which applies\nonly for gates of a particular (but widely encountered) form.\n\nBackground\n----------\n\nOne of the main ideas encountered in near-term quantum machine learning\nis the variational circuit &lt;/glossary/variational\\_circuit&gt;.\nEvolving from earlier concepts pioneered by domain-specific algorithms\nlike the variational quantum eigensolver &lt;/demos/tutorial\\_vqe&gt;\nand the\nquantum approximate optimization algorithm &lt;/demos/tutorial\\_qaoa\\_maxcut&gt;,\nthis class of quantum algorithms makes heavy use of two distinguishing\ningredients:\n\ni)  The circuit's gates have free parameters\nii) Expectation values of measurements are built up from samples\n\nThese two ingredients allow one circuit to actually represent an entire\n*family of circuits*. An objective function---encapsulating some\nproblem-specific goal---is built from the expectation values, and the\ncircuit's free parameters are progressively tuned to optimize this\nfunction. At each step, the circuit has the same gate layout, but\nslightly different parameters, making this approach promising to run on\nconstrained near-term devices.\n\nBut how should we actually update the circuit's parameters to move us\ncloser to a good output? Borrowing a page from classical optimization\nand deep learning, we can use [gradient\ndescent](https://en.wikipedia.org/wiki/Gradient_descent). In this\ngeneral-purpose method, we compute the derivative of a (smooth) function\n$f$ with respect to its parameters $\\theta$, i.e., its gradient\n$\\nabla_\\theta f$. Since the gradient always points in the direction of\nsteepest ascent/descent, if we make small updates to the parameters\naccording to\n\n$$\\theta \\rightarrow \\theta - \\eta \\nabla_\\theta f,$$\n\nwe can iteratively progress to lower and lower values of the function.\n\nThe Parameter-Shift Rule\n------------------------\n\nIn the quantum case, the expectation value of a circuit with respect to\nan measurement operator $\\hat{C}$ depends smoothly on the the circuit's\ngate parameters $\\theta$. We can write this expectation value as\n$\\langle \\hat{C}(\\theta)\\rangle$. This means that the derivatives\n$\\nabla_\\theta \\langle \\hat{C} \\rangle$ exist and gradient descent can\nbe used.\n\nBefore digging deeper, we will first set establish some basic notation.\nFor simplicity, though a circuit may contain many gates, we can\nconcentrate on just a single gate $\\hat{U}$ that we want to\ndifferentiate (other gates will follow the same pattern).\n\n![](../demonstrations/stochastic_parameter_shift/quantum_circuit.png){width=\"90%\"}\n\nAll gates appearing before $\\hat{U}$ can be absorbed into an initial\nstate preparation $\\vert \\psi_0 \\rangle$, and all gates appearing after\n$\\hat{U}$ can be absorbed with the measurement operator $\\hat{C}$ to\nmake a new effective measurement operator $\\hat{A}$. The expectation\nvalue $\\hat{A}$ in the simpler one-gate circuit is identical to the\nexpectation value $\\hat{C}$ in the larger circuit.\n\nWe can also write any unitary gate in the form\n\n$$\\hat{U}(\\theta) = e^{i\\theta\\hat{V}},$$\n\nwhere $\\hat{V}$ is the Hermitian *generator* of the gate $\\hat{U}$.\n\nNow, how do we actually obtain the numerical values of the gradient\nnecessary for gradient descent?\n\nThis is where the parameter-shift rule \\[\\#li2016\\]\\_\n\\[\\#mitarai2018\\]\\_ \\[\\#schuld2018\\]\\_ enters the story. In short, the\nparameter-shift rule says that for many gates of interest---including\nall single-qubit gates---we can obtain the value of the derivative\n$\\nabla_\\theta \\langle \\hat{A}(\\theta) \\rangle$ by subtracting two\nrelated circuit evaluations:\n\n$$\\nabla_\\theta \\langle \\hat{A} \\rangle =\nu\\left[\n  \\langle \\hat{A}(\\theta + \\tfrac{\\pi}{4u}) \\rangle -\n  \\langle \\hat{A}(\\theta - \\tfrac{\\pi}{4u}) \\rangle\n\\right]$$\n\n![](../demonstrations/stochastic_parameter_shift/parameter_shift_rule.png){width=\"80%\"}\n\n> **note**\n>\n> The multiplier $u$ in this formula is arbitrary and can differ between\n> implementations. For example, PennyLane internally uses the convention\n> where $u=\\tfrac{1}{2}$.\n\nThe parameter-shift rule is *exact*, i.e., the formula for the gradient\ndoesn't involve any approximations. For quantum hardware, we can only\ntake a finite number of samples, so we can never determine a circuit's\nexpectation values *exactly*. However, the parameter-shift rule provides\nthe guarantee that it is an [unbiased\nestimator](https://en.wikipedia.org/wiki/Bias_of_an_estimator), meaning\nthat if we could take a infinite number of samples, it converges to the\ncorrect gradient value.\n\nLet's jump into some code and take a look at the parameter-shift rule in\naction.\n"
      ]
    },
    {
      "cell_type": "code",
      "execution_count": null,
      "metadata": {
        "collapsed": false
      },
      "outputs": [],
      "source": [
        "import pennylane as qml\nimport matplotlib.pyplot as plt\nfrom pennylane import numpy as np\nfrom scipy.linalg import expm\n\nnp.random.seed(143)\nangles = np.linspace(0, 2 * np.pi, 50)\ndev = qml.device('default.qubit', wires=2)"
      ]
    },
    {
      "cell_type": "markdown",
      "metadata": {},
      "source": [
        "We will consider a very simple circuit, containing just a single-qubit\nrotation about the x-axis, followed by a measurement along the z-axis.\n"
      ]
    },
    {
      "cell_type": "code",
      "execution_count": null,
      "metadata": {
        "collapsed": false
      },
      "outputs": [],
      "source": [
        "@qml.qnode(dev)\ndef rotation_circuit(theta):\n    qml.RX(theta, wires=0)\n    return qml.expval(qml.PauliZ(0))"
      ]
    },
    {
      "cell_type": "markdown",
      "metadata": {},
      "source": [
        "We will examine the gradient with respect to the parameter $\\theta$. The\nparameter-shift recipe requires taking the difference of two circuit\nevaluations, with forward and backward shifts in angles. PennyLane also\nprovides a convenience function \\~pennylane.grad to automatically\ncompute the gradient. We can use it here for comparison.\n\n> **note**\n>\n> Check out the qml.gradients &lt;pennylane.gradients&gt; module to\n> explore all quantum gradient transforms provided by PennyLane.\n"
      ]
    },
    {
      "cell_type": "code",
      "execution_count": null,
      "metadata": {
        "collapsed": false
      },
      "outputs": [],
      "source": [
        "def param_shift(theta):\n    # using the convention u=1/2\n    r_plus = rotation_circuit(theta + np.pi / 2)\n    r_minus = rotation_circuit(theta - np.pi / 2)\n    return 0.5 * (r_plus - r_minus)\n\ngradient = qml.grad(rotation_circuit, argnum=0)\n\nexpvals = [rotation_circuit(theta) for theta in angles]\ngrad_vals = [gradient(theta) for theta in angles]\nparam_shift_vals = [param_shift(theta) for theta in angles]\nplt.plot(angles, expvals, 'b', label=\"Expecation value\")\nplt.plot(angles, grad_vals, 'r', label=\"qml.grad function\")\nplt.plot(angles, param_shift_vals, 'mx', label=\"Parameter-shift rule\")\nplt.xlabel(\"theta\")\nplt.legend()\nplt.show()"
      ]
    },
    {
      "cell_type": "markdown",
      "metadata": {},
      "source": [
        "We have evaluated the expectation value at all possible values for the\nangle $\\theta$. By inspection, we can see that the functional dependence\nis $\\cos(\\theta)$.\n\nThe parameter-shift evaluations are plotted with 'x' markers. Again, by\nsimple inspection, we can see that these have the functional form\n$-\\sin(\\theta)$, the expected derivative of $\\cos(\\theta)$, and that\nthey match the values provided by the \\~pennylane.grad function.\n\nThe parameter-shift works really nicely for many gates---like the\nrotation gate we used in our example above. But it does have\nconstraints. There are some technical conditions that, if a gate\nsatisfies them, we can guarantee it has a parameter-shift rule\n\\[\\#schuld2018\\]\\_. Concretely, the parameter-shift rule holds for any\ngate of the form $e^{i\\theta\\hat{G}}$ where $\\hat{G}^2=\\mathbb{1}$.\nFurthermore, we can derive similar parameter-shift recipes for some\nother gates that *don't* meet this technical conditions, on a one-by-one\nbasis.\n\nBut, in general, the parameter-shift rule is not universally applicable.\nIn cases where it does not hold (or is not yet known to hold), we would\neither have to decompose the gate into compatible gates, or use an\nalternate estimator for the gradient, e.g., the finite-difference\napproximation. But both of these alternatives can have drawbacks due to\nincreased circuit complexity or potential errors in the gradient value.\n\nIf only there was a parameter-shift method that could be used for *any*\nqubit gate. \ud83e\udd14\n"
      ]
    },
    {
      "cell_type": "markdown",
      "metadata": {},
      "source": [
        "The Stochastic Parameter-Shift Rule\n===================================\n\nHere's where the stochastic parameter-shift rule makes its appearance on\nthe stage.\n\nThe stochastic parameter-shift rule introduces two new ingredients to\nthe parameter-shift recipe:\n\ni)  A random parameter $s$, sampled uniformly from $[0,1]$ (this is the\n    origin of the \"stochastic\" in the name);\nii) Sandwiching the \"shifted\" gate application with one additional gate\n    on each side.\n\nThese additions allow the stochastic parameter-shift rule to work for\narbitrary qubit gates.\n\nEvery gate is unitary, which means they have the form\n$\\hat{U}(\\theta) = e^{i\\theta \\hat{G}}$ for some generator $G$.\nAdditionally, every multi-qubit operator can be expressed as a sum of\ntensor products of Pauli operators, so let's assume, without loss of\ngenerality, the following form for $\\hat{G}$:\n\n$$\\hat{G} = \\hat{H} + \\theta \\hat{V},$$\n\nwhere $\\hat{V}$ is a \"Pauli word\", i.e., a tensor product of Pauli\noperators (e.g., $\\hat{Z}_0\\otimes\\hat{Y}_1)$ and $\\hat{H}$ can be an\narbitrary linear combination of Pauli-operator tensor products. For\nsimplicity, we assume that the parameter $\\theta$ appears only in front\nof $\\hat{V}$ (other cases can be handled using the chain rule).\n"
      ]
    },
    {
      "cell_type": "markdown",
      "metadata": {},
      "source": [
        "The stochastic parameter-shift rule gives the following recipe for\ncomputing the gradient of the expectation value\n$\\langle \\hat{A} (\\theta) \\rangle$:\n\ni)  Sample a value for the variable $s$ uniformly form $[0,1]$.\nii) In place of gate $\\hat{U}(\\theta)$, apply the following three gates:\n\n    a)  $e^{i(1-s)(\\hat{H} + \\theta\\hat{V})}$\n    b)  $e^{+i\\tfrac{\\pi}{4}\\hat{V}}$\n    c)  $e^{is(\\hat{H} + \\theta\\hat{V})}$\n\n    Measure the observable $\\hat{A}$ and call the resulting expectation\n    value of $\\langle r_+\\rangle$.\n\niii) Repeat step ii, but flip the sign of the angle $\\tfrac{\\pi}{4}$ in\n    part b. Call the resulting expectation value $\\langle r_-\\rangle$.\n\nThe gradient can be obtained from the average value of\n$\\langle r_+ \\rangle - \\langle r_-\\rangle$, i.e.,\n\n$$\\mathbb{E}_{s\\in\\mathcal{U}[0,1]}[\\langle r_+ \\rangle - \\langle r_-\\rangle]$$\n\n![](../demonstrations/stochastic_parameter_shift/stochastic_parameter_shift.png){width=\"90%\"}\n\nLet's see this method in action.\n\nFollowing \\[\\#banchi2020\\]\\_, we will use the cross-resonance gate as a\nworking example. This gate is defined as\n\n$$\\hat{U}_{CR}(\\theta_1, \\theta_2, \\theta_3)\n                   = \\exp\\left[ i(\\theta_1\\hat{X}\\otimes\\hat{\\mathbf{1}} -\n                                  \\theta_2\\hat{Z}\\otimes\\hat{X} +\n                                  \\theta_3\\hat{\\mathbf{1}}\\otimes\\hat{X}\n                               ) \\right].$$\n"
      ]
    },
    {
      "cell_type": "code",
      "execution_count": null,
      "metadata": {
        "collapsed": false
      },
      "outputs": [],
      "source": [
        "# First we define some basic Pauli matrices\nI = np.eye(2)\nX = np.array([[0, 1], [1, 0]])\nZ = np.array([[1, 0], [0, -1]])\n\ndef Generator(theta1, theta2, theta3):\n    G = theta1.item() * np.kron(X, I) - \\\n        theta2 * np.kron(Z, X) + \\\n        theta3 * np.kron(I, X)\n    return G\n\n# A simple example circuit that contains the cross-resonance gate\n@qml.qnode(dev)\ndef crossres_circuit(gate_pars):\n    G = Generator(*gate_pars)\n    qml.QubitUnitary(expm(-1j * G), wires=[0, 1])\n    return qml.expval(qml.PauliZ(0))\n\n# Subcircuit implementing the gates necessary for the\n# stochastic parameter-shift rule.\n# In this example, we will differentiate the first term of\n# the circuit (i.e., our variable is theta1).\ndef SPSRgates(gate_pars, s, sign):\n    G = Generator(*gate_pars)\n    # step a)\n    qml.QubitUnitary(expm(1j * (1 - s) * G), wires=[0, 1])\n    # step b)\n    qml.QubitUnitary(expm(1j * sign * np.pi / 4 * X), wires=0)\n    # step c)\n    qml.QubitUnitary(expm(1j * s * G), wires=[0,1])\n\n# Function which can obtain all expectation vals needed\n# for the stochastic parameter-shift rule\n@qml.qnode(dev)\ndef spsr_circuit(gate_pars, s=None, sign=+1):\n    SPSRgates(gate_pars, s, sign)\n    return qml.expval(qml.PauliZ(0))\n\n# Fix the other parameters of the gate\ntheta2, theta3 = -0.15, 1.6\n\n# Obtain r+ and r-\n# Even 10 samples gives a good result for this example\npos_vals = np.array([[spsr_circuit([theta1, theta2, theta3], s=s, sign=+1)\n                      for s in np.random.uniform(size=10)]\n                      for theta1 in angles])\nneg_vals = np.array([[spsr_circuit([theta1, theta2, theta3], s=s, sign=-1)\n                      for s in np.random.uniform(size=10)]\n                      for theta1 in angles])\n\n# Plot the results\nevals = [crossres_circuit([theta1, theta2, theta3]) for theta1 in angles]\nspsr_vals = (pos_vals - neg_vals).mean(axis=1)\nplt.plot(angles, evals, 'b', label=\"Expectation Value\")\nplt.plot(angles, spsr_vals, 'r', label=\"Stochastic parameter-shift rule\")\nplt.xlabel(\"theta1\")\nplt.legend()\nplt.show()"
      ]
    },
    {
      "cell_type": "markdown",
      "metadata": {},
      "source": [
        "By inspection, we can see that the expectation values of the\ncross-resonance gate lead to a functional form $\\cos(2\\theta_1)$. Also\nby inspection, the results from the stochastic parameter-shift rule have\nthe functional form $-2\\sin(2\\theta_1)$, which is the derivative of\n$\\cos(2\\theta_1)$!\n"
      ]
    },
    {
      "cell_type": "markdown",
      "metadata": {},
      "source": [
        "Finally, it is interesting to notice when the stochastic parameter-shift\nrule reduces to the regular parameter-shift rule. Consider again the\ncase where the gate has just a single term:\n\n$$\\hat{U}(\\theta) = e^{i\\theta\\hat{V}}.$$\n\nIn this case, the terms encapsulated in the operator $\\hat{H}$ are all\nzero, and the gates $e^{i(1-s)\\hat{G}}$,\n$e^{\\pm i\\tfrac{\\pi}{4}\\hat{V}}$, and $e^{is\\hat{G}}$ which appear in\nthe stochastic parameter-shift rule all commute. Therefore, we can\ncombine them together into a single gate:\n\n$$\\begin{align}\n   e^{i(1-s)\\hat{G}}e^{\\pm i\\tfrac{\\pi}{4}\\hat{V}}e^{is\\hat{G}}\n    & = e^{i(1-s)\\hat{G}}e^{is\\hat{G}}e^{\\pm i\\tfrac{\\pi}{4}\\hat{V}} \\\\\n    & = e^{i\\hat{G}}e^{\\pm i\\tfrac{\\pi}{4}\\hat{V}} \\\\\n    & = e^{i\\theta\\hat{V}}e^{\\pm i\\tfrac{\\pi}{4}\\hat{V}} \\\\\n    & = e^{i\\left(\\theta\\pm\\tfrac{\\pi}{4}\\right)\\hat{V}}\n\\end{align}$$\n\nSince the random variable $s$ no longer appears in this equation,\naveraging over it has no effect, and the stochastic parameter-shift rule\nnicely reduces back to the ordinary parameter-shift rule!\n\n$$\\begin{align}\n   \\mathbb{E}_{s\\in\\mathcal{U}[0,1]}\\left[\n       e^{i(1-s)\\hat{G}}e^{\\pm i\\tfrac{\\pi}{4}\\hat{V}}e^{is\\hat{G}}\n   \\right]\n   = & e^{i\\left(\\theta\\pm\\tfrac{\\pi}{4}\\right)\\hat{V}}\n\\end{align}$$\n"
      ]
    },
    {
      "cell_type": "markdown",
      "metadata": {},
      "source": [
        "References\n==========\n"
      ]
    }
  ],
  "metadata": {
    "kernelspec": {
      "display_name": "Python 3",
      "language": "python",
      "name": "python3"
    },
    "language_info": {
      "codemirror_mode": {
        "name": "ipython",
        "version": 3
      },
      "file_extension": ".py",
      "mimetype": "text/x-python",
      "name": "python",
      "nbconvert_exporter": "python",
      "pygments_lexer": "ipython3",
      "version": "3.7.2"
    }
  },
  "nbformat": 4,
  "nbformat_minor": 0
}